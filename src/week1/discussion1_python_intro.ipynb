{
  "nbformat": 4,
  "nbformat_minor": 0,
  "metadata": {
    "colab": {
      "provenance": []
    },
    "kernelspec": {
      "name": "python3",
      "display_name": "Python 3"
    },
    "language_info": {
      "name": "python"
    }
  },
  "cells": [
    {
      "cell_type": "markdown",
      "source": [
        "## 1. Variables and Data Types"
      ],
      "metadata": {
        "id": "SXG0pR5183z3"
      }
    },
    {
      "cell_type": "code",
      "source": [
        "# Numeric types\n",
        "x = 10        # Integer\n",
        "y = 3.14      # Float\n",
        "\n",
        "# Strings\n",
        "name = \"Alice\"\n",
        "\n",
        "# Boolean\n",
        "is_active = True\n",
        "\n",
        "# None (null)\n",
        "value = None\n",
        "\n",
        "print(x, y, name, is_active, value)"
      ],
      "metadata": {
        "id": "bMNQULme8-lU",
        "colab": {
          "base_uri": "https://localhost:8080/"
        },
        "outputId": "f4ef05ef-cb17-4f4d-abf8-ac7af7f3fa68"
      },
      "execution_count": null,
      "outputs": [
        {
          "output_type": "stream",
          "name": "stdout",
          "text": [
            "10 3.14 Alice True None\n"
          ]
        }
      ]
    },
    {
      "cell_type": "markdown",
      "source": [
        "## 2. Data Structures"
      ],
      "metadata": {
        "id": "4NgPWWAv9su9"
      }
    },
    {
      "cell_type": "code",
      "source": [
        "# Lists (ordered, mutable)\n",
        "my_list = [1, 'hello', 3.14, True]\n",
        "my_list.append(5)\n",
        "my_list.remove(1) # Remove item with value\n",
        "del my_list[0] # Remove item with index\n",
        "\n",
        "\n",
        "print(my_list)\n",
        "# Access first element\n",
        "print(my_list[0])\n",
        "# Access last element\n",
        "print(my_list[-1])"
      ],
      "metadata": {
        "id": "uDv4JjHA9EyL",
        "colab": {
          "base_uri": "https://localhost:8080/"
        },
        "outputId": "9eca9775-e0ab-4184-c259-d426f2a71f41"
      },
      "execution_count": null,
      "outputs": [
        {
          "output_type": "stream",
          "name": "stdout",
          "text": [
            "[3.14, True, 5]\n",
            "3.14\n",
            "5\n"
          ]
        }
      ]
    },
    {
      "cell_type": "code",
      "source": [
        "# Tuples (ordered, immutable)\n",
        "my_tuple = (1, 2, 3)\n",
        "print(my_tuple)"
      ],
      "metadata": {
        "id": "oR4xPtb-_F2X",
        "colab": {
          "base_uri": "https://localhost:8080/"
        },
        "outputId": "4afeddb4-5747-4aca-f9e4-970a5a031108"
      },
      "execution_count": null,
      "outputs": [
        {
          "output_type": "stream",
          "name": "stdout",
          "text": [
            "(1, 2, 3)\n"
          ]
        }
      ]
    },
    {
      "cell_type": "code",
      "source": [
        "# Sets (unordered, mutable, unique values)\n",
        "my_set = {1, 2, 3}\n",
        "my_set.add(4)\n",
        "my_set.remove(3)\n",
        "print(my_set)\n",
        "print(3 in my_set)"
      ],
      "metadata": {
        "id": "dUcr8SnuBk0G",
        "colab": {
          "base_uri": "https://localhost:8080/"
        },
        "outputId": "8e8cfa69-5e6f-4364-8c9b-e7fc0f174f5b"
      },
      "execution_count": null,
      "outputs": [
        {
          "output_type": "stream",
          "name": "stdout",
          "text": [
            "{1, 2, 4}\n",
            "False\n"
          ]
        }
      ]
    },
    {
      "cell_type": "code",
      "source": [
        "# Dictionaries (key-value pairs, mutable)\n",
        "my_dict = {\"name\": \"Alice\", \"age\": 25}\n",
        "my_dict[\"city\"] = \"NYC\"\n",
        "print(my_dict[\"age\"])\n",
        "print(my_dict.keys())\n",
        "print(my_dict.values())"
      ],
      "metadata": {
        "id": "AVvuQoLjBnTq",
        "colab": {
          "base_uri": "https://localhost:8080/"
        },
        "outputId": "a84859c9-24d8-44f6-f2ae-14dae60589d5"
      },
      "execution_count": null,
      "outputs": [
        {
          "output_type": "stream",
          "name": "stdout",
          "text": [
            "25\n",
            "dict_keys(['name', 'age', 'city'])\n",
            "dict_values(['Alice', 25, 'NYC'])\n"
          ]
        }
      ]
    },
    {
      "cell_type": "markdown",
      "source": [
        "## 3. Conditionals and Loops"
      ],
      "metadata": {
        "id": "_AfWxq6iB5RA"
      }
    },
    {
      "cell_type": "code",
      "source": [
        "# Conditional statements\n",
        "if x > 5:\n",
        "    print(\"x is greater than 5\")\n",
        "elif x == 5:\n",
        "    print(\"x equals 5\")\n",
        "else:\n",
        "    print(\"x is less than 5\")"
      ],
      "metadata": {
        "id": "PpTeZjMoBon3",
        "colab": {
          "base_uri": "https://localhost:8080/"
        },
        "outputId": "8767037d-8f12-4372-d024-7568e77d187b"
      },
      "execution_count": null,
      "outputs": [
        {
          "output_type": "stream",
          "name": "stdout",
          "text": [
            "x is greater than 5\n"
          ]
        }
      ]
    },
    {
      "cell_type": "code",
      "source": [
        "# Loops\n",
        "for i in range(5):\n",
        "    print(i)\n",
        "print('****')\n",
        "for i in range(10, 1, -3):\n",
        "    print(i)\n",
        "print('****')\n",
        "count = 0\n",
        "while count < 3:\n",
        "    print(count)\n",
        "    count += 1"
      ],
      "metadata": {
        "id": "EyYZ-T8IB-xx",
        "colab": {
          "base_uri": "https://localhost:8080/"
        },
        "outputId": "1aff5477-71d2-4edf-d336-06e1b2f415d3"
      },
      "execution_count": null,
      "outputs": [
        {
          "output_type": "stream",
          "name": "stdout",
          "text": [
            "0\n",
            "1\n",
            "2\n",
            "3\n",
            "4\n",
            "****\n",
            "10\n",
            "7\n",
            "4\n",
            "****\n",
            "0\n",
            "1\n",
            "2\n"
          ]
        }
      ]
    },
    {
      "cell_type": "code",
      "source": [
        "for index, value in enumerate(['a', 'b', 'c']):\n",
        "    print(index, value)"
      ],
      "metadata": {
        "id": "xQo4kCgqCDKt"
      },
      "execution_count": null,
      "outputs": []
    },
    {
      "cell_type": "code",
      "source": [
        "# Declarative Style\n",
        "squares = [x ** 2 for x in range(10)]\n",
        "print(squares)"
      ],
      "metadata": {
        "id": "UgKfEHrHCi9t"
      },
      "execution_count": null,
      "outputs": []
    },
    {
      "cell_type": "markdown",
      "source": [
        " ## 4. Functions"
      ],
      "metadata": {
        "id": "c9WutHnJDfGn"
      }
    },
    {
      "cell_type": "code",
      "source": [
        "def greet(name):\n",
        "    return f\"Hello, {name}!\"\n",
        "\n",
        "print(greet(\"Alice\"))"
      ],
      "metadata": {
        "id": "tLENElEYDZs1",
        "colab": {
          "base_uri": "https://localhost:8080/"
        },
        "outputId": "69b12e68-66fe-42b5-8b32-e1a7cb7f6261"
      },
      "execution_count": null,
      "outputs": [
        {
          "output_type": "stream",
          "name": "stdout",
          "text": [
            "Hello, Alice!\n"
          ]
        }
      ]
    },
    {
      "cell_type": "markdown",
      "source": [
        "## 5. Classes and Objects"
      ],
      "metadata": {
        "id": "vFKqolIoEGDn"
      }
    },
    {
      "cell_type": "code",
      "source": [
        "class Person:\n",
        "    def __init__(self, name, age):\n",
        "        self.name = name\n",
        "        self.age = age\n",
        "\n",
        "    def introduce(self):\n",
        "        print(f\"My name is {self.name} and I am {self.age} years old.\")\n",
        "\n",
        "person = Person(\"Alice\", 25)\n",
        "person.introduce()"
      ],
      "metadata": {
        "id": "DYRRtzBbECR3",
        "colab": {
          "base_uri": "https://localhost:8080/"
        },
        "outputId": "0820d3f5-e540-46fd-cea4-ff54921fff9a"
      },
      "execution_count": null,
      "outputs": [
        {
          "output_type": "stream",
          "name": "stdout",
          "text": [
            "My name is Alice and I am 25 years old.\n"
          ]
        }
      ]
    },
    {
      "cell_type": "markdown",
      "source": [
        "## 6. File Handling"
      ],
      "metadata": {
        "id": "VLNRC1jFEcO3"
      }
    },
    {
      "cell_type": "code",
      "source": [
        "# Writing to a file\n",
        "with open(\"example.txt\", \"w\") as file:\n",
        "    file.write(\"Hello, World!\\n\")\n",
        "\n",
        "# Reading from a file\n",
        "with open(\"example.txt\", \"r\") as file:\n",
        "    content = file.read()\n",
        "    print(content)"
      ],
      "metadata": {
        "id": "_PkruQIbEbOC",
        "colab": {
          "base_uri": "https://localhost:8080/"
        },
        "outputId": "6013f198-96e8-460c-e8e2-da595cd67306"
      },
      "execution_count": null,
      "outputs": [
        {
          "output_type": "stream",
          "name": "stdout",
          "text": [
            "Hello, World!\n",
            "\n"
          ]
        }
      ]
    },
    {
      "cell_type": "markdown",
      "source": [
        "## 8. Libraries and Modules"
      ],
      "metadata": {
        "id": "totB8olJFYuP"
      }
    },
    {
      "cell_type": "code",
      "source": [
        "import math\n",
        "import random\n",
        "\n",
        "print(math.sqrt(16))\n",
        "print(random.randint(1, 10))"
      ],
      "metadata": {
        "id": "DNxuJybkFZ1B",
        "colab": {
          "base_uri": "https://localhost:8080/"
        },
        "outputId": "387629fc-4ed0-4af2-9cac-e6b510ddaba8"
      },
      "execution_count": null,
      "outputs": [
        {
          "output_type": "stream",
          "name": "stdout",
          "text": [
            "4.0\n",
            "1\n"
          ]
        }
      ]
    },
    {
      "cell_type": "code",
      "source": [
        "import numpy as np\n",
        "\n",
        "arr = np.array([1, 2, 3, 4])\n",
        "print(arr * 2)"
      ],
      "metadata": {
        "id": "mvRuaThvFcYH"
      },
      "execution_count": null,
      "outputs": []
    }
  ]
}