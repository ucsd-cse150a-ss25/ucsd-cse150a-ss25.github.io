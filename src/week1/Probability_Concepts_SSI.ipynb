{
  "cells": [
    {
      "cell_type": "markdown",
      "id": "6986a4dc",
      "metadata": {
        "id": "6986a4dc"
      },
      "source": [
        "# Basic Probability Concepts with Python\n",
        "This notebook illustrates fundamental probability concepts with concise explanations and minimal Python examples. Only Python's built‑in functionality (plus `networkx` for graphs) is used to keep the focus on the ideas.\n",
        "\n",
        "**Covered topics**\n",
        "1. Unconditional (Marginal) Probability\n",
        "2. Conditional Probability\n",
        "3. Joint Probability\n",
        "4. Marginal Independence\n",
        "5. Conditional Independence\n",
        "6. Conditional Dependence\n",
        "7. Bayes' Theorem\n",
        "8. d‑Separation"
      ]
    },
    {
      "cell_type": "markdown",
      "id": "c087fefd",
      "metadata": {
        "id": "c087fefd"
      },
      "source": [
        "## 1. Unconditional (Marginal) Probability\n",
        "The **unconditional probability** (or *marginal probability*) of an event \\(A\\) is the probability that \\(A\\) occurs irrespective of any other events.\n",
        "\n",
        "$$\n",
        "P(A) = \\frac{\\text{number of favourable outcomes}}{\\text{total number of outcomes}}\n",
        "$$\n",
        "### Example\n",
        "What is the probability of rolling a 4 with a fair six‑sided die?  The theoretical answer is $$P(\\text{roll}=4)=\\tfrac16$$. The code below confirms this approximately via simulation."
      ]
    },
    {
      "cell_type": "code",
      "execution_count": null,
      "id": "885d384f",
      "metadata": {
        "id": "885d384f",
        "outputId": "4c540613-f22e-44ff-d3ab-1d01b2c2c800",
        "colab": {
          "base_uri": "https://localhost:8080/"
        }
      },
      "outputs": [
        {
          "output_type": "stream",
          "name": "stdout",
          "text": [
            "Estimated P(roll=4) = 0.16787\n"
          ]
        }
      ],
      "source": [
        "import random, math\n",
        "trials = 100_000\n",
        "fours = sum(1 for _ in range(trials) if random.randint(1, 6) == 4)\n",
        "print('Estimated P(roll=4) =', fours / trials)"
      ]
    },
    {
      "cell_type": "markdown",
      "source": [
        "### Another Example: What’s the probability a student prefers Python?"
      ],
      "metadata": {
        "id": "DBAgfNY48KtN"
      },
      "id": "DBAgfNY48KtN"
    },
    {
      "cell_type": "markdown",
      "source": [
        "Let’s compute this in two ways: first using a `for` loop, then using a concise generator expression.\n"
      ],
      "metadata": {
        "id": "fPyJqnP_8E2T"
      },
      "id": "fPyJqnP_8E2T"
    },
    {
      "cell_type": "code",
      "source": [
        "students = [\n",
        "    ('Alice', 'Python'),\n",
        "    ('Bob', 'JavaScript'),\n",
        "    ('Charlie', 'Python'),\n",
        "    ('David', 'Java'),\n",
        "    ('Eve', 'Python'),\n",
        "    ('Frank', 'Java'),\n",
        "    ('Grace', 'C++'),\n",
        "    ('Hannah', 'Python'),\n",
        "]\n",
        "\n",
        "# Method 1: Using a for loop\n",
        "python_count = 0\n",
        "for _, lang in students:\n",
        "    if lang == 'Python':\n",
        "        python_count += 1\n",
        "total = len(students)\n",
        "print(\"P(Python) using loop:\", python_count / total)\n",
        "\n",
        "# Method 2: Using a generator expression (short version)\n",
        "python_count_short = sum(1 for _, lang in students if lang == 'Python')\n",
        "print(\"P(Python) using short version:\", python_count_short / len(students))\n"
      ],
      "metadata": {
        "colab": {
          "base_uri": "https://localhost:8080/"
        },
        "id": "WM-6itlt7Cwq",
        "outputId": "bfc8453e-6bfb-4f48-e5a0-1ace7c897b92"
      },
      "id": "WM-6itlt7Cwq",
      "execution_count": null,
      "outputs": [
        {
          "output_type": "stream",
          "name": "stdout",
          "text": [
            "P(Python) using loop: 0.5\n",
            "P(Python) using short version: 0.5\n"
          ]
        }
      ]
    },
    {
      "cell_type": "markdown",
      "id": "57aba6a6",
      "metadata": {
        "id": "57aba6a6"
      },
      "source": [
        "## 2. Conditional Probability\n",
        "The **conditional probability** of \\(A\\) given \\(B\\) is the probability that \\(A\\) occurs when we know \\(B\\) has occurred.\n",
        "\n",
        "$$\n",
        "P(A\\mid B) = \\frac{P(A, B)}{P(B)}\n",
        "$$\n",
        "### Example\n",
        "Draw one card from a standard deck.  Let\n",
        "- \\(A\\): “card is an Ace” (4 out of 52)\n",
        "- \\(B\\): “card is red” (26 out of 52)\n",
        "\n",
        "We compute \\(P(A\\mid B)\\)."
      ]
    },
    {
      "cell_type": "code",
      "execution_count": null,
      "id": "1a43e4bc",
      "metadata": {
        "id": "1a43e4bc",
        "outputId": "22915a79-6968-4ed7-85bf-d1ce8de517eb",
        "colab": {
          "base_uri": "https://localhost:8080/"
        }
      },
      "outputs": [
        {
          "output_type": "stream",
          "name": "stdout",
          "text": [
            "P(A | B) = 0.07692307692307693\n"
          ]
        }
      ],
      "source": [
        "# Conditional probability example with a deck of cards\n",
        "total = 52\n",
        "aces = 4\n",
        "red_cards = 26\n",
        "red_aces = 2\n",
        "p_b = red_cards / total\n",
        "p_a_and_b = red_aces / total\n",
        "p_a_given_b = p_a_and_b / p_b\n",
        "print('P(A | B) =', p_a_given_b)"
      ]
    },
    {
      "cell_type": "markdown",
      "id": "0803a96c",
      "metadata": {
        "id": "0803a96c"
      },
      "source": [
        "## 3. Joint Probability\n",
        "The **joint probability** \\(P(A, B)\\) is the probability that both events occur.\n",
        "For the card example above:\n",
        "$$\n",
        "P(\\text{red and Ace}) = \\frac{2}{52}\n",
        "$$\n",
        "Below we print the value:"
      ]
    },
    {
      "cell_type": "code",
      "execution_count": null,
      "id": "9cb4c6dc",
      "metadata": {
        "id": "9cb4c6dc",
        "outputId": "410e494d-762c-45f1-da21-6c9f0a28d6fc",
        "colab": {
          "base_uri": "https://localhost:8080/"
        }
      },
      "outputs": [
        {
          "output_type": "stream",
          "name": "stdout",
          "text": [
            "P(red ∧ Ace) = 0.038461538461538464\n"
          ]
        }
      ],
      "source": [
        "print('P(red ∧ Ace) =', 2/52)\n"
      ]
    },
    {
      "cell_type": "markdown",
      "id": "22bc0953",
      "metadata": {
        "id": "22bc0953"
      },
      "source": [
        "## 4. Marginal Independence\n",
        "Two events \\(A\\) and \\(C\\) are **independent** if knowledge of one does not change the probability of the other:\n",
        "$$\n",
        "P(A, C) = P(A)\\,P(C)\n",
        "$$\n",
        "### Example\n",
        "Let\n",
        "- \\(A\\): “die roll is 3”\n",
        "- \\(C\\): “coin toss is Heads”\n",
        "\n",
        "Because die and coin are unrelated, these events are independent."
      ]
    },
    {
      "cell_type": "code",
      "execution_count": null,
      "id": "4ca76b93",
      "metadata": {
        "id": "4ca76b93",
        "outputId": "5fd75235-0ec1-4f02-c38a-4baf70d36457",
        "colab": {
          "base_uri": "https://localhost:8080/"
        }
      },
      "outputs": [
        {
          "output_type": "stream",
          "name": "stdout",
          "text": [
            "Expected P(3 and Heads) = 0.08333333333333333\n"
          ]
        }
      ],
      "source": [
        "p_die_3 = 1/6\n",
        "p_heads = 0.5\n",
        "print('Expected P(3 and Heads) =', p_die_3 * p_heads)"
      ]
    },
    {
      "cell_type": "markdown",
      "source": [
        "___\n",
        "##  Example: Are `Weather` and `Day Type` Marginally Independent?\n",
        "\n",
        "We want to check if two events are **marginally independent**:\n",
        "\n",
        "- \\( A \\): The weather is **sunny**\n",
        "- \\( B \\): The day is a **weekend**\n",
        "\n",
        "Events \\(A\\) and \\(B\\) are **marginally independent** if:\n",
        "\n",
        "$$\n",
        "P(A \\cap B) = P(A) \\cdot P(B)\n",
        "$$\n",
        "\n",
        "Let’s use the dataset below to estimate these probabilities.\n"
      ],
      "metadata": {
        "id": "T4X9yTDZ-B5q"
      },
      "id": "T4X9yTDZ-B5q"
    },
    {
      "cell_type": "code",
      "source": [
        "# Dataset of (weather, day_type) pairs\n",
        "data = [\n",
        "    ('sunny', 'weekday'),\n",
        "    ('sunny', 'weekday'),\n",
        "    ('rainy', 'weekday'),\n",
        "    ('sunny', 'weekend'),\n",
        "    ('rainy', 'weekend'),\n",
        "    ('rainy', 'weekend'),\n",
        "    ('sunny', 'weekday'),\n",
        "    ('rainy', 'weekday'),\n",
        "]\n",
        "\n",
        "total = len(data)\n",
        "\n",
        "# Count sunny days\n",
        "sunny_count = sum(1 for weather, _ in data if weather == 'sunny')\n",
        "\n",
        "# Count weekend days\n",
        "weekend_count = sum(1 for _, day in data if day == 'weekend')\n",
        "\n",
        "# Count sunny AND weekend days\n",
        "sunny_and_weekend = sum(1 for weather, day in data if weather == 'sunny' and day == 'weekend')\n",
        "\n",
        "# Probabilities\n",
        "P_A = sunny_count / total\n",
        "P_B = weekend_count / total\n",
        "P_A_and_B = sunny_and_weekend / total\n",
        "\n",
        "# Output\n",
        "print(\"P(sunny) =\", P_A)\n",
        "print(\"P(weekend) =\", P_B)\n",
        "print(\"P(sunny ∩ weekend) =\", P_A_and_B)\n",
        "print(\"P(sunny) * P(weekend) =\", P_A * P_B)\n"
      ],
      "metadata": {
        "colab": {
          "base_uri": "https://localhost:8080/"
        },
        "id": "pNvhj0o9-Thh",
        "outputId": "ef2dfdc5-6697-4725-e1a7-ad4b3fbe53ce"
      },
      "id": "pNvhj0o9-Thh",
      "execution_count": null,
      "outputs": [
        {
          "output_type": "stream",
          "name": "stdout",
          "text": [
            "P(sunny) = 0.5\n",
            "P(weekend) = 0.375\n",
            "P(sunny ∩ weekend) = 0.125\n",
            "P(sunny) * P(weekend) = 0.1875\n"
          ]
        }
      ]
    },
    {
      "cell_type": "markdown",
      "source": [
        "### Conclusion\n",
        "\n",
        "We calculated:\n",
        "\n",
        "- $P(\\text{sunny}) = 0.5 $\n",
        "- $P(\\text{weekend}) = 0.375 $\n",
        "- $P(\\text{sunny} \\cap \\text{weekend}) = 0.125 $\n",
        "- $P(\\text{sunny}) \\cdot P(\\text{weekend}) = 0.1875 $\n",
        "\n",
        "Since:\n",
        "$$\n",
        "P(\\text{sunny} \\cap \\text{weekend}) \\ne P(\\text{sunny}) \\cdot P(\\text{weekend})\n",
        "$$\n",
        "\n",
        "We conclude that **weather and day type are not marginally independent** in this dataset.\n"
      ],
      "metadata": {
        "id": "kbVPyWLg-YGY"
      },
      "id": "kbVPyWLg-YGY"
    },
    {
      "cell_type": "markdown",
      "source": [
        "____"
      ],
      "metadata": {
        "id": "8cu1TDu8-pGX"
      },
      "id": "8cu1TDu8-pGX"
    },
    {
      "cell_type": "markdown",
      "id": "655321e4",
      "metadata": {
        "id": "655321e4"
      },
      "source": [
        "## 5. Conditional Independence\n",
        "Events \\(A\\) and \\(C\\) are **conditionally independent given** \\(B\\) if\n",
        "$$\n",
        "P(A, C \\mid B) = P(A\\mid B)\\,P(C\\mid B)\n",
        "$$\n",
        "### Example\n",
        "Let\n",
        "- \\(B\\): Weather (0 = dry, 1 = rainy)\n",
        "- \\(A\\): Carry umbrella\n",
        "- \\(C\\): Wear rain‑boots\n",
        "\n",
        "Given the weather, the choices for umbrella and rain‑boots are independent."
      ]
    },
    {
      "cell_type": "code",
      "execution_count": null,
      "id": "117587fa",
      "metadata": {
        "id": "117587fa",
        "outputId": "b205dcfe-cf50-4a6e-e697-90bee73a52fd",
        "colab": {
          "base_uri": "https://localhost:8080/"
        }
      },
      "outputs": [
        {
          "output_type": "stream",
          "name": "stdout",
          "text": [
            "P(A,C | rain) = 0.7200000000000001\n",
            "P(A,C | dry)  = 0.005000000000000001\n"
          ]
        }
      ],
      "source": [
        "p_b_rain = 0.3\n",
        "p_a_given_rain = 0.9\n",
        "p_c_given_rain = 0.8\n",
        "p_a_and_c_given_rain = p_a_given_rain * p_c_given_rain\n",
        "\n",
        "p_a_given_dry = 0.1\n",
        "p_c_given_dry = 0.05\n",
        "p_a_and_c_given_dry = p_a_given_dry * p_c_given_dry\n",
        "\n",
        "print('P(A,C | rain) =', p_a_and_c_given_rain)\n",
        "print('P(A,C | dry)  =', p_a_and_c_given_dry)"
      ]
    },
    {
      "cell_type": "markdown",
      "id": "68b94e50",
      "metadata": {
        "id": "68b94e50"
      },
      "source": [
        "## 6. Conditional Dependence (Explaining‑Away)\n",
        "Sometimes two causes are marginally independent but become dependent once we observe their common effect (a *collider*). This is known as **explaining‑away**.\n",
        "### Example\n",
        "- \\(A\\): Burglary\n",
        "- \\(C\\): Earthquake\n",
        "- \\(B\\): Alarm rings\n",
        "\n",
        "Before hearing the alarm, Burglary and Earthquake are independent. After conditioning on the alarm, evidence for one cause lowers the probability of the other."
      ]
    },
    {
      "cell_type": "code",
      "execution_count": null,
      "id": "9dd83a9f",
      "metadata": {
        "id": "9dd83a9f",
        "outputId": "84c1b833-76fd-461c-a7ee-82b5ca95c8f8",
        "colab": {
          "base_uri": "https://localhost:8080/"
        }
      },
      "outputs": [
        {
          "output_type": "stream",
          "name": "stdout",
          "text": [
            "Posterior P(Burglary, Quake | Alarm)\n",
            "(0, 0) → 0.2662\n",
            "(0, 1) → 0.4801\n",
            "(1, 0) → 0.2532\n",
            "(1, 1) → 0.0005\n"
          ]
        }
      ],
      "source": [
        "p_burglary = 0.001\n",
        "p_quake = 0.002\n",
        "p_alarm_given_burglary = 0.95\n",
        "p_alarm_given_quake = 0.90\n",
        "p_alarm_given_none = 0.001\n",
        "\n",
        "from itertools import product\n",
        "joint = {}\n",
        "def alarm_prob(burg, quake):\n",
        "    if burg or quake:\n",
        "        return p_alarm_given_burglary if burg else p_alarm_given_quake\n",
        "    return p_alarm_given_none\n",
        "\n",
        "for burg, quake in product([0,1],[0,1]):\n",
        "    p_ab = p_burglary if burg else 1 - p_burglary\n",
        "    p_q = p_quake if quake else 1 - p_quake\n",
        "    joint[(burg, quake)] = p_ab * p_q * alarm_prob(burg, quake)\n",
        "\n",
        "p_alarm = sum(joint.values())\n",
        "posterior = {k: v/p_alarm for k, v in joint.items()}\n",
        "print('Posterior P(Burglary, Quake | Alarm)')\n",
        "for k, v in posterior.items():\n",
        "    print(k, '→', round(v,4))"
      ]
    },
    {
      "cell_type": "markdown",
      "id": "5d3baa61",
      "metadata": {
        "id": "5d3baa61"
      },
      "source": [
        "## 7. Bayes' Theorem\n",
        "Bayes' theorem lets us update beliefs in light of new evidence:\n",
        "$$\n",
        "P(A\\mid B) = \\frac{P(B\\mid A) P(A)}{P(B)}\n",
        "$$\n",
        "### Example\n",
        "A disease affects 1 % of people.  A test is 95 % sensitive and 90 % specific.  What is $P(\\text{disease}\\mid\\text{positive})$?"
      ]
    },
    {
      "cell_type": "code",
      "execution_count": null,
      "id": "bd3ce4aa",
      "metadata": {
        "id": "bd3ce4aa",
        "outputId": "3db4308d-d60b-44a3-ca94-53bde6ec5c00",
        "colab": {
          "base_uri": "https://localhost:8080/"
        }
      },
      "outputs": [
        {
          "output_type": "stream",
          "name": "stdout",
          "text": [
            "P(Disease | positive) = 0.088\n"
          ]
        }
      ],
      "source": [
        "p_disease = 0.01\n",
        "sens = 0.95\n",
        "spec = 0.90\n",
        "p_positive = sens * p_disease + (1 - spec) * (1 - p_disease)\n",
        "p_post = (sens * p_disease) / p_positive\n",
        "print('P(Disease | positive) =', round(p_post,3))"
      ]
    },
    {
      "cell_type": "markdown",
      "id": "3587f6c0",
      "metadata": {
        "id": "3587f6c0"
      },
      "source": [
        "## 8. Graph Construction and Traversal with NetworkX\n",
        "Graphs are fundamental data structures used to represent relationships between variables or entities. In probabilistic models, **directed graphs** (like Bayesian networks) and **undirected graphs** (like Markov Random Fields) represent different types of independence assumptions.\n",
        "\n",
        "In this section, we:\n",
        "- Build and visualize a directed and an undirected graph.\n",
        "- Traverse the graphs using **breadth-first search (BFS)**.\n",
        "- Use traversal to determine whether two nodes are connected.\n",
        "\n",
        "This helps us understand how directionality changes the meaning of “connectivity” in a graph."
      ]
    },
    {
      "cell_type": "code",
      "execution_count": null,
      "id": "74f1d5bf",
      "metadata": {
        "id": "74f1d5bf"
      },
      "outputs": [],
      "source": [
        "import networkx as nx, matplotlib.pyplot as plt\n"
      ]
    },
    {
      "cell_type": "code",
      "execution_count": null,
      "id": "119a5895",
      "metadata": {
        "id": "119a5895",
        "outputId": "1fb3d9b6-b8e2-4776-8599-6640832b91e1",
        "colab": {
          "base_uri": "https://localhost:8080/",
          "height": 573
        }
      },
      "outputs": [
        {
          "output_type": "display_data",
          "data": {
            "text/plain": [
              "<Figure size 640x480 with 1 Axes>"
            ],
            "image/png": "[encoded data removed]"
          },
          "metadata": {}
        },
        {
          "output_type": "stream",
          "name": "stdout",
          "text": [
            "Can A reach C in directed graph? True\n",
            "Can C reach A in directed graph? False\n"
          ]
        }
      ],
      "source": [
        "# --- Directed Graph: A → B → C ---\n",
        "G_dir = nx.DiGraph()\n",
        "G_dir.add_edges_from([('A', 'B'), ('B', 'C')])\n",
        "\n",
        "# Visualize\n",
        "pos = nx.spring_layout(G_dir, seed=1)\n",
        "nx.draw(G_dir, pos, with_labels=True, node_color='lightblue', node_size=1500, arrowsize=20)\n",
        "plt.title(\"Directed Graph (e.g., Bayesian Network)\")\n",
        "plt.show()\n",
        "\n",
        "# BFS that respects direction\n",
        "def reachable_directed(graph, source, target):\n",
        "    visited = set()\n",
        "    queue = [source]\n",
        "    while queue:\n",
        "        node = queue.pop(0)\n",
        "        if node == target:\n",
        "            return True\n",
        "        if node in visited:\n",
        "            continue\n",
        "        visited.add(node)\n",
        "        queue.extend(graph.successors(node))  # Only follow forward edges\n",
        "    return False\n",
        "\n",
        "print(\"Can A reach C in directed graph?\", reachable_directed(G_dir, 'A', 'C'))  # True\n",
        "print(\"Can C reach A in directed graph?\", reachable_directed(G_dir, 'C', 'A'))  # False"
      ]
    },
    {
      "cell_type": "code",
      "execution_count": null,
      "id": "4c28f84b",
      "metadata": {
        "id": "4c28f84b",
        "outputId": "960b4bd6-7eab-4bbb-896b-bc65b77c607f",
        "colab": {
          "base_uri": "https://localhost:8080/",
          "height": 573
        }
      },
      "outputs": [
        {
          "output_type": "display_data",
          "data": {
            "text/plain": [
              "<Figure size 640x480 with 1 Axes>"
            ],
            "image/png": "[encoded data removed]"
          },
          "metadata": {}
        },
        {
          "output_type": "stream",
          "name": "stdout",
          "text": [
            "Are Alice and David connected? True\n",
            "Are Alice and Emma connected? False\n"
          ]
        }
      ],
      "source": [
        "# Build the friendship network\n",
        "G_friends = nx.Graph()\n",
        "G_friends.add_edges_from([\n",
        "    (\"Alice\", \"Bob\"),\n",
        "    (\"Bob\", \"Claire\"),\n",
        "    (\"Claire\", \"David\"),\n",
        "    (\"Emma\", \"Frank\")  # Separate friend group\n",
        "])\n",
        "\n",
        "# Visualize the friendship network\n",
        "pos = nx.spring_layout(G_friends, seed=3)\n",
        "nx.draw(G_friends, pos, with_labels=True, node_color='lightgreen', node_size=1800)\n",
        "plt.title(\"Undirected Graph: Friendship Network\")\n",
        "plt.show()\n",
        "\n",
        "# Check if two people are connected (via mutual or indirect friends)\n",
        "def are_socially_connected(graph, person1, person2):\n",
        "    visited = set()\n",
        "    queue = [person1]\n",
        "\n",
        "    while queue:\n",
        "        person = queue.pop(0)\n",
        "        if person == person2:\n",
        "            return True\n",
        "        if person in visited:\n",
        "            continue\n",
        "        visited.add(person)\n",
        "        queue.extend(graph.neighbors(person))\n",
        "\n",
        "    return False\n",
        "\n",
        "# Examples\n",
        "print(\"Are Alice and David connected?\", are_socially_connected(G_friends, \"Alice\", \"David\"))  # True\n",
        "print(\"Are Alice and Emma connected?\", are_socially_connected(G_friends, \"Alice\", \"Emma\"))    # False"
      ]
    },
    {
      "cell_type": "markdown",
      "id": "aaf4d59f",
      "metadata": {
        "id": "aaf4d59f"
      },
      "source": [
        "## 9. d‑Separation\n",
        "\n",
        "> **d‑separation** is a graphical criterion used in Bayesian Networks (directed acyclic graphs) to determine whether two variables are conditionally independent, given a set of observed nodes.\n",
        "\n",
        "In a Bayesian network, variables can influence each other through directed paths. However, **conditioning** on certain nodes can \"block\" the flow of information between other nodes.\n",
        "\n",
        "### Example Chain:  \n",
        "In the structure $$ A \\rightarrow B \\rightarrow C $$:\n",
        "- \\( A \\) and \\( C \\) are dependent (connected through \\( B \\))\n",
        "- Conditioning on \\( B \\) blocks the path, making $$ A \\perp C \\mid B $$\n",
        "\n",
        "Below, we build a more complex DAG and use NetworkX (v3.2+) to test d‑separation between selected variables."
      ]
    },
    {
      "cell_type": "code",
      "execution_count": null,
      "id": "6559c083",
      "metadata": {
        "id": "6559c083",
        "outputId": "dc2805c8-a59b-4f37-e353-a6b97a45b2c5",
        "colab": {
          "base_uri": "https://localhost:8080/",
          "height": 693
        }
      },
      "outputs": [
        {
          "output_type": "display_data",
          "data": {
            "text/plain": [
              "<Figure size 800x600 with 1 Axes>"
            ],
            "image/png": "[encoded data removed]"
          },
          "metadata": {}
        },
        {
          "output_type": "stream",
          "name": "stdout",
          "text": [
            "Is A d-separated from E given C? False\n",
            "Is A d-separated from C given no observations? False\n"
          ]
        }
      ],
      "source": [
        "# Create a Directed Acyclic Graph (DAG) representing a Bayesian Network\n",
        "G = nx.DiGraph()\n",
        "G.add_edges_from([\n",
        "    ('A', 'B'),\n",
        "    ('B', 'C'),\n",
        "    ('A', 'D'),\n",
        "    ('D', 'E'),\n",
        "    ('C', 'E')\n",
        "])\n",
        "\n",
        "# Draw the DAG using a clean layout\n",
        "plt.figure(figsize=(8, 6))\n",
        "pos = nx.spring_layout(G, seed=42)\n",
        "nx.draw(\n",
        "    G, pos,\n",
        "    with_labels=True,\n",
        "    node_size=2000,\n",
        "    node_color=\"skyblue\",\n",
        "    font_size=12,\n",
        "    font_weight=\"bold\",\n",
        "    arrowsize=20\n",
        ")\n",
        "plt.title(\"Bayesian Network Graph\")\n",
        "plt.show()\n",
        "\n",
        "# Test d-separation (requires NetworkX 3.2+)\n",
        "try:\n",
        "    from networkx.algorithms.d_separation import is_d_separator\n",
        "\n",
        "    result_1 = is_d_separator(G, {'A'}, {'E'}, {'C'})\n",
        "    print(f\"Is A d-separated from E given C? {result_1}\")  # Expect True (blocked by collider C)\n",
        "\n",
        "    result_2 = is_d_separator(G, {'A'}, {'C'}, set())\n",
        "    print(f\"Is A d-separated from C given no observations? {result_2}\")  # Expect False (direct path exists)\n",
        "\n",
        "except ImportError:\n",
        "    print(\"Error: NetworkX >= 3.2 is required to use 'is_d_separator'. Please update your NetworkX version.\")"
      ]
    },
    {
      "cell_type": "markdown",
      "source": [
        "## 10. Downloading Notebook as PDF"
      ],
      "metadata": {
        "id": "rCPfT0AKBbB4"
      },
      "id": "rCPfT0AKBbB4"
    },
    {
      "cell_type": "code",
      "execution_count": null,
      "id": "69e6c791",
      "metadata": {
        "id": "69e6c791"
      },
      "outputs": [],
      "source": [
        "!apt-get -qq install texlive texlive-xetex texlive-latex-extra pandoc\n",
        "!pip install pypandoc"
      ]
    },
    {
      "cell_type": "code",
      "source": [
        "!ls"
      ],
      "metadata": {
        "colab": {
          "base_uri": "https://localhost:8080/"
        },
        "id": "STWL7QH9Jt6Y",
        "outputId": "3f8f03d7-a8e8-427d-abf7-c5c792b7ee2a"
      },
      "id": "STWL7QH9Jt6Y",
      "execution_count": null,
      "outputs": [
        {
          "output_type": "stream",
          "name": "stdout",
          "text": [
            "sample_data\n"
          ]
        }
      ]
    },
    {
      "cell_type": "code",
      "source": [
        "import os\n",
        "\n",
        "notebook_filename = \"Probability_Concepts.ipynb\"\n",
        "if os.path.exists(notebook_filename):\n",
        "    !jupyter nbconvert --to pdf {notebook_filename}\n",
        "else:\n",
        "    print(f\"❌ File '{notebook_filename}' not found. Check the name and try again.\")\n"
      ],
      "metadata": {
        "colab": {
          "base_uri": "https://localhost:8080/"
        },
        "id": "AxG6OTq0FPCS",
        "outputId": "face58a2-4039-452d-8351-7bb553b3431f"
      },
      "id": "AxG6OTq0FPCS",
      "execution_count": null,
      "outputs": [
        {
          "output_type": "stream",
          "name": "stdout",
          "text": [
            "❌ File 'Probability_Concepts.ipynb' not found. Check the name and try again.\n"
          ]
        }
      ]
    },
    {
      "cell_type": "code",
      "source": [
        "!jupyter nbconvert \"Probability_Concepts.ipynb\" --to pdf"
      ],
      "metadata": {
        "colab": {
          "base_uri": "https://localhost:8080/"
        },
        "id": "cK9aPKopEmRD",
        "outputId": "1a75ae44-cde5-4df0-d3fa-265fb506064b"
      },
      "id": "cK9aPKopEmRD",
      "execution_count": null,
      "outputs": [
        {
          "output_type": "stream",
          "name": "stdout",
          "text": [
            "[NbConvertApp] WARNING | pattern 'Probability_Concepts.ipynb' matched no files\n",
            "This application is used to convert notebook files (*.ipynb)\n",
            "        to various other formats.\n",
            "\n",
            "        WARNING: THE COMMANDLINE INTERFACE MAY CHANGE IN FUTURE RELEASES.\n",
            "\n",
            "Options\n",
            "=======\n",
            "The options below are convenience aliases to configurable class-options,\n",
            "as listed in the \"Equivalent to\" description-line of the aliases.\n",
            "To see all configurable class-options for some <cmd>, use:\n",
            "    <cmd> --help-all\n",
            "\n",
            "--debug\n",
            "    set log level to logging.DEBUG (maximize logging output)\n",
            "    Equivalent to: [--Application.log_level=10]\n",
            "--show-config\n",
            "    Show the application's configuration (human-readable format)\n",
            "    Equivalent to: [--Application.show_config=True]\n",
            "--show-config-json\n",
            "    Show the application's configuration (json format)\n",
            "    Equivalent to: [--Application.show_config_json=True]\n",
            "--generate-config\n",
            "    generate default config file\n",
            "    Equivalent to: [--JupyterApp.generate_config=True]\n",
            "-y\n",
            "    Answer yes to any questions instead of prompting.\n",
            "    Equivalent to: [--JupyterApp.answer_yes=True]\n",
            "--execute\n",
            "    Execute the notebook prior to export.\n",
            "    Equivalent to: [--ExecutePreprocessor.enabled=True]\n",
            "--allow-errors\n",
            "    Continue notebook execution even if one of the cells throws an error and include the error message in the cell output (the default behaviour is to abort conversion). This flag is only relevant if '--execute' was specified, too.\n",
            "    Equivalent to: [--ExecutePreprocessor.allow_errors=True]\n",
            "--stdin\n",
            "    read a single notebook file from stdin. Write the resulting notebook with default basename 'notebook.*'\n",
            "    Equivalent to: [--NbConvertApp.from_stdin=True]\n",
            "--stdout\n",
            "    Write notebook output to stdout instead of files.\n",
            "    Equivalent to: [--NbConvertApp.writer_class=StdoutWriter]\n",
            "--inplace\n",
            "    Run nbconvert in place, overwriting the existing notebook (only\n",
            "            relevant when converting to notebook format)\n",
            "    Equivalent to: [--NbConvertApp.use_output_suffix=False --NbConvertApp.export_format=notebook --FilesWriter.build_directory=]\n",
            "--clear-output\n",
            "    Clear output of current file and save in place,\n",
            "            overwriting the existing notebook.\n",
            "    Equivalent to: [--NbConvertApp.use_output_suffix=False --NbConvertApp.export_format=notebook --FilesWriter.build_directory= --ClearOutputPreprocessor.enabled=True]\n",
            "--coalesce-streams\n",
            "    Coalesce consecutive stdout and stderr outputs into one stream (within each cell).\n",
            "    Equivalent to: [--NbConvertApp.use_output_suffix=False --NbConvertApp.export_format=notebook --FilesWriter.build_directory= --CoalesceStreamsPreprocessor.enabled=True]\n",
            "--no-prompt\n",
            "    Exclude input and output prompts from converted document.\n",
            "    Equivalent to: [--TemplateExporter.exclude_input_prompt=True --TemplateExporter.exclude_output_prompt=True]\n",
            "--no-input\n",
            "    Exclude input cells and output prompts from converted document.\n",
            "            This mode is ideal for generating code-free reports.\n",
            "    Equivalent to: [--TemplateExporter.exclude_output_prompt=True --TemplateExporter.exclude_input=True --TemplateExporter.exclude_input_prompt=True]\n",
            "--allow-chromium-download\n",
            "    Whether to allow downloading chromium if no suitable version is found on the system.\n",
            "    Equivalent to: [--WebPDFExporter.allow_chromium_download=True]\n",
            "--disable-chromium-sandbox\n",
            "    Disable chromium security sandbox when converting to PDF..\n",
            "    Equivalent to: [--WebPDFExporter.disable_sandbox=True]\n",
            "--show-input\n",
            "    Shows code input. This flag is only useful for dejavu users.\n",
            "    Equivalent to: [--TemplateExporter.exclude_input=False]\n",
            "--embed-images\n",
            "    Embed the images as base64 dataurls in the output. This flag is only useful for the HTML/WebPDF/Slides exports.\n",
            "    Equivalent to: [--HTMLExporter.embed_images=True]\n",
            "--sanitize-html\n",
            "    Whether the HTML in Markdown cells and cell outputs should be sanitized..\n",
            "    Equivalent to: [--HTMLExporter.sanitize_html=True]\n",
            "--log-level=<Enum>\n",
            "    Set the log level by value or name.\n",
            "    Choices: any of [0, 10, 20, 30, 40, 50, 'DEBUG', 'INFO', 'WARN', 'ERROR', 'CRITICAL']\n",
            "    Default: 30\n",
            "    Equivalent to: [--Application.log_level]\n",
            "--config=<Unicode>\n",
            "    Full path of a config file.\n",
            "    Default: ''\n",
            "    Equivalent to: [--JupyterApp.config_file]\n",
            "--to=<Unicode>\n",
            "    The export format to be used, either one of the built-in formats\n",
            "            ['asciidoc', 'custom', 'html', 'latex', 'markdown', 'notebook', 'pdf', 'python', 'qtpdf', 'qtpng', 'rst', 'script', 'slides', 'webpdf']\n",
            "            or a dotted object name that represents the import path for an\n",
            "            ``Exporter`` class\n",
            "    Default: ''\n",
            "    Equivalent to: [--NbConvertApp.export_format]\n",
            "--template=<Unicode>\n",
            "    Name of the template to use\n",
            "    Default: ''\n",
            "    Equivalent to: [--TemplateExporter.template_name]\n",
            "--template-file=<Unicode>\n",
            "    Name of the template file to use\n",
            "    Default: None\n",
            "    Equivalent to: [--TemplateExporter.template_file]\n",
            "--theme=<Unicode>\n",
            "    Template specific theme(e.g. the name of a JupyterLab CSS theme distributed\n",
            "    as prebuilt extension for the lab template)\n",
            "    Default: 'light'\n",
            "    Equivalent to: [--HTMLExporter.theme]\n",
            "--sanitize_html=<Bool>\n",
            "    Whether the HTML in Markdown cells and cell outputs should be sanitized.This\n",
            "    should be set to True by nbviewer or similar tools.\n",
            "    Default: False\n",
            "    Equivalent to: [--HTMLExporter.sanitize_html]\n",
            "--writer=<DottedObjectName>\n",
            "    Writer class used to write the\n",
            "                                        results of the conversion\n",
            "    Default: 'FilesWriter'\n",
            "    Equivalent to: [--NbConvertApp.writer_class]\n",
            "--post=<DottedOrNone>\n",
            "    PostProcessor class used to write the\n",
            "                                        results of the conversion\n",
            "    Default: ''\n",
            "    Equivalent to: [--NbConvertApp.postprocessor_class]\n",
            "--output=<Unicode>\n",
            "    Overwrite base name use for output files.\n",
            "                Supports pattern replacements '{notebook_name}'.\n",
            "    Default: '{notebook_name}'\n",
            "    Equivalent to: [--NbConvertApp.output_base]\n",
            "--output-dir=<Unicode>\n",
            "    Directory to write output(s) to. Defaults\n",
            "                                  to output to the directory of each notebook. To recover\n",
            "                                  previous default behaviour (outputting to the current\n",
            "                                  working directory) use . as the flag value.\n",
            "    Default: ''\n",
            "    Equivalent to: [--FilesWriter.build_directory]\n",
            "--reveal-prefix=<Unicode>\n",
            "    The URL prefix for reveal.js (version 3.x).\n",
            "            This defaults to the reveal CDN, but can be any url pointing to a copy\n",
            "            of reveal.js.\n",
            "            For speaker notes to work, this must be a relative path to a local\n",
            "            copy of reveal.js: e.g., \"reveal.js\".\n",
            "            If a relative path is given, it must be a subdirectory of the\n",
            "            current directory (from which the server is run).\n",
            "            See the usage documentation\n",
            "            (https://nbconvert.readthedocs.io/en/latest/usage.html#reveal-js-html-slideshow)\n",
            "            for more details.\n",
            "    Default: ''\n",
            "    Equivalent to: [--SlidesExporter.reveal_url_prefix]\n",
            "--nbformat=<Enum>\n",
            "    The nbformat version to write.\n",
            "            Use this to downgrade notebooks.\n",
            "    Choices: any of [1, 2, 3, 4]\n",
            "    Default: 4\n",
            "    Equivalent to: [--NotebookExporter.nbformat_version]\n",
            "\n",
            "Examples\n",
            "--------\n",
            "\n",
            "    The simplest way to use nbconvert is\n",
            "\n",
            "            > jupyter nbconvert mynotebook.ipynb --to html\n",
            "\n",
            "            Options include ['asciidoc', 'custom', 'html', 'latex', 'markdown', 'notebook', 'pdf', 'python', 'qtpdf', 'qtpng', 'rst', 'script', 'slides', 'webpdf'].\n",
            "\n",
            "            > jupyter nbconvert --to latex mynotebook.ipynb\n",
            "\n",
            "            Both HTML and LaTeX support multiple output templates. LaTeX includes\n",
            "            'base', 'article' and 'report'.  HTML includes 'basic', 'lab' and\n",
            "            'classic'. You can specify the flavor of the format used.\n",
            "\n",
            "            > jupyter nbconvert --to html --template lab mynotebook.ipynb\n",
            "\n",
            "            You can also pipe the output to stdout, rather than a file\n",
            "\n",
            "            > jupyter nbconvert mynotebook.ipynb --stdout\n",
            "\n",
            "            PDF is generated via latex\n",
            "\n",
            "            > jupyter nbconvert mynotebook.ipynb --to pdf\n",
            "\n",
            "            You can get (and serve) a Reveal.js-powered slideshow\n",
            "\n",
            "            > jupyter nbconvert myslides.ipynb --to slides --post serve\n",
            "\n",
            "            Multiple notebooks can be given at the command line in a couple of\n",
            "            different ways:\n",
            "\n",
            "            > jupyter nbconvert notebook*.ipynb\n",
            "            > jupyter nbconvert notebook1.ipynb notebook2.ipynb\n",
            "\n",
            "            or you can specify the notebooks list in a config file, containing::\n",
            "\n",
            "                c.NbConvertApp.notebooks = [\"my_notebook.ipynb\"]\n",
            "\n",
            "            > jupyter nbconvert --config mycfg.py\n",
            "\n",
            "To see all available configurables, use `--help-all`.\n",
            "\n"
          ]
        }
      ]
    },
    {
      "cell_type": "code",
      "source": [
        "# Download the notebook file from Colab, and re-upload it to files\n",
        "!jupyter nbconvert Probability_Concepts.ipynb --to pdf\n",
        "from google.colab import files\n",
        "files.download('Probability_Concepts.pdf')"
      ],
      "metadata": {
        "colab": {
          "base_uri": "https://localhost:8080/",
          "height": 1000
        },
        "id": "P26130d8BJPZ",
        "outputId": "0af4acb6-1157-4aec-eecf-676c88fbf8dc"
      },
      "id": "P26130d8BJPZ",
      "execution_count": null,
      "outputs": [
        {
          "output_type": "stream",
          "name": "stdout",
          "text": [
            "[NbConvertApp] WARNING | pattern 'Probability_Concepts.ipynb' matched no files\n",
            "This application is used to convert notebook files (*.ipynb)\n",
            "        to various other formats.\n",
            "\n",
            "        WARNING: THE COMMANDLINE INTERFACE MAY CHANGE IN FUTURE RELEASES.\n",
            "\n",
            "Options\n",
            "=======\n",
            "The options below are convenience aliases to configurable class-options,\n",
            "as listed in the \"Equivalent to\" description-line of the aliases.\n",
            "To see all configurable class-options for some <cmd>, use:\n",
            "    <cmd> --help-all\n",
            "\n",
            "--debug\n",
            "    set log level to logging.DEBUG (maximize logging output)\n",
            "    Equivalent to: [--Application.log_level=10]\n",
            "--show-config\n",
            "    Show the application's configuration (human-readable format)\n",
            "    Equivalent to: [--Application.show_config=True]\n",
            "--show-config-json\n",
            "    Show the application's configuration (json format)\n",
            "    Equivalent to: [--Application.show_config_json=True]\n",
            "--generate-config\n",
            "    generate default config file\n",
            "    Equivalent to: [--JupyterApp.generate_config=True]\n",
            "-y\n",
            "    Answer yes to any questions instead of prompting.\n",
            "    Equivalent to: [--JupyterApp.answer_yes=True]\n",
            "--execute\n",
            "    Execute the notebook prior to export.\n",
            "    Equivalent to: [--ExecutePreprocessor.enabled=True]\n",
            "--allow-errors\n",
            "    Continue notebook execution even if one of the cells throws an error and include the error message in the cell output (the default behaviour is to abort conversion). This flag is only relevant if '--execute' was specified, too.\n",
            "    Equivalent to: [--ExecutePreprocessor.allow_errors=True]\n",
            "--stdin\n",
            "    read a single notebook file from stdin. Write the resulting notebook with default basename 'notebook.*'\n",
            "    Equivalent to: [--NbConvertApp.from_stdin=True]\n",
            "--stdout\n",
            "    Write notebook output to stdout instead of files.\n",
            "    Equivalent to: [--NbConvertApp.writer_class=StdoutWriter]\n",
            "--inplace\n",
            "    Run nbconvert in place, overwriting the existing notebook (only\n",
            "            relevant when converting to notebook format)\n",
            "    Equivalent to: [--NbConvertApp.use_output_suffix=False --NbConvertApp.export_format=notebook --FilesWriter.build_directory=]\n",
            "--clear-output\n",
            "    Clear output of current file and save in place,\n",
            "            overwriting the existing notebook.\n",
            "    Equivalent to: [--NbConvertApp.use_output_suffix=False --NbConvertApp.export_format=notebook --FilesWriter.build_directory= --ClearOutputPreprocessor.enabled=True]\n",
            "--coalesce-streams\n",
            "    Coalesce consecutive stdout and stderr outputs into one stream (within each cell).\n",
            "    Equivalent to: [--NbConvertApp.use_output_suffix=False --NbConvertApp.export_format=notebook --FilesWriter.build_directory= --CoalesceStreamsPreprocessor.enabled=True]\n",
            "--no-prompt\n",
            "    Exclude input and output prompts from converted document.\n",
            "    Equivalent to: [--TemplateExporter.exclude_input_prompt=True --TemplateExporter.exclude_output_prompt=True]\n",
            "--no-input\n",
            "    Exclude input cells and output prompts from converted document.\n",
            "            This mode is ideal for generating code-free reports.\n",
            "    Equivalent to: [--TemplateExporter.exclude_output_prompt=True --TemplateExporter.exclude_input=True --TemplateExporter.exclude_input_prompt=True]\n",
            "--allow-chromium-download\n",
            "    Whether to allow downloading chromium if no suitable version is found on the system.\n",
            "    Equivalent to: [--WebPDFExporter.allow_chromium_download=True]\n",
            "--disable-chromium-sandbox\n",
            "    Disable chromium security sandbox when converting to PDF..\n",
            "    Equivalent to: [--WebPDFExporter.disable_sandbox=True]\n",
            "--show-input\n",
            "    Shows code input. This flag is only useful for dejavu users.\n",
            "    Equivalent to: [--TemplateExporter.exclude_input=False]\n",
            "--embed-images\n",
            "    Embed the images as base64 dataurls in the output. This flag is only useful for the HTML/WebPDF/Slides exports.\n",
            "    Equivalent to: [--HTMLExporter.embed_images=True]\n",
            "--sanitize-html\n",
            "    Whether the HTML in Markdown cells and cell outputs should be sanitized..\n",
            "    Equivalent to: [--HTMLExporter.sanitize_html=True]\n",
            "--log-level=<Enum>\n",
            "    Set the log level by value or name.\n",
            "    Choices: any of [0, 10, 20, 30, 40, 50, 'DEBUG', 'INFO', 'WARN', 'ERROR', 'CRITICAL']\n",
            "    Default: 30\n",
            "    Equivalent to: [--Application.log_level]\n",
            "--config=<Unicode>\n",
            "    Full path of a config file.\n",
            "    Default: ''\n",
            "    Equivalent to: [--JupyterApp.config_file]\n",
            "--to=<Unicode>\n",
            "    The export format to be used, either one of the built-in formats\n",
            "            ['asciidoc', 'custom', 'html', 'latex', 'markdown', 'notebook', 'pdf', 'python', 'qtpdf', 'qtpng', 'rst', 'script', 'slides', 'webpdf']\n",
            "            or a dotted object name that represents the import path for an\n",
            "            ``Exporter`` class\n",
            "    Default: ''\n",
            "    Equivalent to: [--NbConvertApp.export_format]\n",
            "--template=<Unicode>\n",
            "    Name of the template to use\n",
            "    Default: ''\n",
            "    Equivalent to: [--TemplateExporter.template_name]\n",
            "--template-file=<Unicode>\n",
            "    Name of the template file to use\n",
            "    Default: None\n",
            "    Equivalent to: [--TemplateExporter.template_file]\n",
            "--theme=<Unicode>\n",
            "    Template specific theme(e.g. the name of a JupyterLab CSS theme distributed\n",
            "    as prebuilt extension for the lab template)\n",
            "    Default: 'light'\n",
            "    Equivalent to: [--HTMLExporter.theme]\n",
            "--sanitize_html=<Bool>\n",
            "    Whether the HTML in Markdown cells and cell outputs should be sanitized.This\n",
            "    should be set to True by nbviewer or similar tools.\n",
            "    Default: False\n",
            "    Equivalent to: [--HTMLExporter.sanitize_html]\n",
            "--writer=<DottedObjectName>\n",
            "    Writer class used to write the\n",
            "                                        results of the conversion\n",
            "    Default: 'FilesWriter'\n",
            "    Equivalent to: [--NbConvertApp.writer_class]\n",
            "--post=<DottedOrNone>\n",
            "    PostProcessor class used to write the\n",
            "                                        results of the conversion\n",
            "    Default: ''\n",
            "    Equivalent to: [--NbConvertApp.postprocessor_class]\n",
            "--output=<Unicode>\n",
            "    Overwrite base name use for output files.\n",
            "                Supports pattern replacements '{notebook_name}'.\n",
            "    Default: '{notebook_name}'\n",
            "    Equivalent to: [--NbConvertApp.output_base]\n",
            "--output-dir=<Unicode>\n",
            "    Directory to write output(s) to. Defaults\n",
            "                                  to output to the directory of each notebook. To recover\n",
            "                                  previous default behaviour (outputting to the current\n",
            "                                  working directory) use . as the flag value.\n",
            "    Default: ''\n",
            "    Equivalent to: [--FilesWriter.build_directory]\n",
            "--reveal-prefix=<Unicode>\n",
            "    The URL prefix for reveal.js (version 3.x).\n",
            "            This defaults to the reveal CDN, but can be any url pointing to a copy\n",
            "            of reveal.js.\n",
            "            For speaker notes to work, this must be a relative path to a local\n",
            "            copy of reveal.js: e.g., \"reveal.js\".\n",
            "            If a relative path is given, it must be a subdirectory of the\n",
            "            current directory (from which the server is run).\n",
            "            See the usage documentation\n",
            "            (https://nbconvert.readthedocs.io/en/latest/usage.html#reveal-js-html-slideshow)\n",
            "            for more details.\n",
            "    Default: ''\n",
            "    Equivalent to: [--SlidesExporter.reveal_url_prefix]\n",
            "--nbformat=<Enum>\n",
            "    The nbformat version to write.\n",
            "            Use this to downgrade notebooks.\n",
            "    Choices: any of [1, 2, 3, 4]\n",
            "    Default: 4\n",
            "    Equivalent to: [--NotebookExporter.nbformat_version]\n",
            "\n",
            "Examples\n",
            "--------\n",
            "\n",
            "    The simplest way to use nbconvert is\n",
            "\n",
            "            > jupyter nbconvert mynotebook.ipynb --to html\n",
            "\n",
            "            Options include ['asciidoc', 'custom', 'html', 'latex', 'markdown', 'notebook', 'pdf', 'python', 'qtpdf', 'qtpng', 'rst', 'script', 'slides', 'webpdf'].\n",
            "\n",
            "            > jupyter nbconvert --to latex mynotebook.ipynb\n",
            "\n",
            "            Both HTML and LaTeX support multiple output templates. LaTeX includes\n",
            "            'base', 'article' and 'report'.  HTML includes 'basic', 'lab' and\n",
            "            'classic'. You can specify the flavor of the format used.\n",
            "\n",
            "            > jupyter nbconvert --to html --template lab mynotebook.ipynb\n",
            "\n",
            "            You can also pipe the output to stdout, rather than a file\n",
            "\n",
            "            > jupyter nbconvert mynotebook.ipynb --stdout\n",
            "\n",
            "            PDF is generated via latex\n",
            "\n",
            "            > jupyter nbconvert mynotebook.ipynb --to pdf\n",
            "\n",
            "            You can get (and serve) a Reveal.js-powered slideshow\n",
            "\n",
            "            > jupyter nbconvert myslides.ipynb --to slides --post serve\n",
            "\n",
            "            Multiple notebooks can be given at the command line in a couple of\n",
            "            different ways:\n",
            "\n",
            "            > jupyter nbconvert notebook*.ipynb\n",
            "            > jupyter nbconvert notebook1.ipynb notebook2.ipynb\n",
            "\n",
            "            or you can specify the notebooks list in a config file, containing::\n",
            "\n",
            "                c.NbConvertApp.notebooks = [\"my_notebook.ipynb\"]\n",
            "\n",
            "            > jupyter nbconvert --config mycfg.py\n",
            "\n",
            "To see all available configurables, use `--help-all`.\n",
            "\n"
          ]
        },
        {
          "output_type": "error",
          "ename": "FileNotFoundError",
          "evalue": "Cannot find file: Probability_Concepts.pdf",
          "traceback": [
            "\u001b[0;31m---------------------------------------------------------------------------\u001b[0m",
            "\u001b[0;31mFileNotFoundError\u001b[0m                         Traceback (most recent call last)",
            "\u001b[0;32m/tmp/ipython-input-18-4261793391.py\u001b[0m in \u001b[0;36m<cell line: 0>\u001b[0;34m()\u001b[0m\n\u001b[1;32m      2\u001b[0m \u001b[0mget_ipython\u001b[0m\u001b[0;34m(\u001b[0m\u001b[0;34m)\u001b[0m\u001b[0;34m.\u001b[0m\u001b[0msystem\u001b[0m\u001b[0;34m(\u001b[0m\u001b[0;34m'jupyter nbconvert Probability_Concepts.ipynb --to pdf'\u001b[0m\u001b[0;34m)\u001b[0m\u001b[0;34m\u001b[0m\u001b[0;34m\u001b[0m\u001b[0m\n\u001b[1;32m      3\u001b[0m \u001b[0;32mfrom\u001b[0m \u001b[0mgoogle\u001b[0m\u001b[0;34m.\u001b[0m\u001b[0mcolab\u001b[0m \u001b[0;32mimport\u001b[0m \u001b[0mfiles\u001b[0m\u001b[0;34m\u001b[0m\u001b[0;34m\u001b[0m\u001b[0m\n\u001b[0;32m----> 4\u001b[0;31m \u001b[0mfiles\u001b[0m\u001b[0;34m.\u001b[0m\u001b[0mdownload\u001b[0m\u001b[0;34m(\u001b[0m\u001b[0;34m'Probability_Concepts.pdf'\u001b[0m\u001b[0;34m)\u001b[0m\u001b[0;34m\u001b[0m\u001b[0;34m\u001b[0m\u001b[0m\n\u001b[0m",
            "\u001b[0;32m/usr/local/lib/python3.11/dist-packages/google/colab/files.py\u001b[0m in \u001b[0;36mdownload\u001b[0;34m(filename)\u001b[0m\n\u001b[1;32m    231\u001b[0m   \u001b[0;32mif\u001b[0m \u001b[0;32mnot\u001b[0m \u001b[0m_os\u001b[0m\u001b[0;34m.\u001b[0m\u001b[0mpath\u001b[0m\u001b[0;34m.\u001b[0m\u001b[0mexists\u001b[0m\u001b[0;34m(\u001b[0m\u001b[0mfilename\u001b[0m\u001b[0;34m)\u001b[0m\u001b[0;34m:\u001b[0m\u001b[0;34m\u001b[0m\u001b[0;34m\u001b[0m\u001b[0m\n\u001b[1;32m    232\u001b[0m     \u001b[0mmsg\u001b[0m \u001b[0;34m=\u001b[0m \u001b[0;34m'Cannot find file: {}'\u001b[0m\u001b[0;34m.\u001b[0m\u001b[0mformat\u001b[0m\u001b[0;34m(\u001b[0m\u001b[0mfilename\u001b[0m\u001b[0;34m)\u001b[0m\u001b[0;34m\u001b[0m\u001b[0;34m\u001b[0m\u001b[0m\n\u001b[0;32m--> 233\u001b[0;31m     \u001b[0;32mraise\u001b[0m \u001b[0mFileNotFoundError\u001b[0m\u001b[0;34m(\u001b[0m\u001b[0mmsg\u001b[0m\u001b[0;34m)\u001b[0m  \u001b[0;31m# pylint: disable=undefined-variable\u001b[0m\u001b[0;34m\u001b[0m\u001b[0;34m\u001b[0m\u001b[0m\n\u001b[0m\u001b[1;32m    234\u001b[0m \u001b[0;34m\u001b[0m\u001b[0m\n\u001b[1;32m    235\u001b[0m   \u001b[0mcomm_manager\u001b[0m \u001b[0;34m=\u001b[0m \u001b[0m_IPython\u001b[0m\u001b[0;34m.\u001b[0m\u001b[0mget_ipython\u001b[0m\u001b[0;34m(\u001b[0m\u001b[0;34m)\u001b[0m\u001b[0;34m.\u001b[0m\u001b[0mkernel\u001b[0m\u001b[0;34m.\u001b[0m\u001b[0mcomm_manager\u001b[0m\u001b[0;34m\u001b[0m\u001b[0;34m\u001b[0m\u001b[0m\n",
            "\u001b[0;31mFileNotFoundError\u001b[0m: Cannot find file: Probability_Concepts.pdf"
          ]
        }
      ]
    },
    {
      "cell_type": "code",
      "source": [],
      "metadata": {
        "id": "zdUSrB3yC0sK"
      },
      "id": "zdUSrB3yC0sK",
      "execution_count": null,
      "outputs": []
    }
  ],
  "metadata": {
    "kernelspec": {
      "display_name": "base",
      "language": "python",
      "name": "python3"
    },
    "language_info": {
      "codemirror_mode": {
        "name": "ipython",
        "version": 3
      },
      "file_extension": ".py",
      "mimetype": "text/x-python",
      "name": "python",
      "nbconvert_exporter": "python",
      "pygments_lexer": "ipython3",
      "version": "3.12.7"
    },
    "colab": {
      "provenance": []
    }
  },
  "nbformat": 4,
  "nbformat_minor": 5
}